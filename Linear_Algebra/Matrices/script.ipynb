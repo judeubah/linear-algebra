{
 "cells": [
  {
   "cell_type": "markdown",
   "metadata": {},
   "source": [
    "As with vectors there are foundational operations that we can perform on matrices\n",
    "that enable linear transformations\n",
    "\n",
    "We can do a number of things including: addition/subtraction and multiplication\n",
    "\n",
    "Addition:\n",
    "If matrices are of equal size then we can add them together\n",
    "\n",
    "We simply add the like terms\n",
    "\n",
    "a = [a1 b1]\n",
    "    [a2 b2]\n",
    "\n",
    "b = [c1 d1]\n",
    "    [c2 d2]\n",
    "\n",
    "Below is a function for achieving this in python"
   ]
  },
  {
   "cell_type": "code",
   "execution_count": 114,
   "metadata": {},
   "outputs": [
    {
     "data": {
      "text/plain": [
       "[[3, 7], [8, 8]]"
      ]
     },
     "execution_count": 114,
     "metadata": {},
     "output_type": "execute_result"
    }
   ],
   "source": [
    "import numpy as np\n",
    "\n",
    "def sclared_matrix(matrix):\n",
    "    if type(matrix[0]) == int:\n",
    "        scalar = matrix[0]\n",
    "        board = matrix[1]\n",
    "        for x in range(len(board)):\n",
    "            board[x] = [ele * scalar for ele in board[x]]\n",
    "        return board\n",
    "    return matrix\n",
    "\n",
    "matrix = [20,[[1,2,5],\n",
    "          [3,4,19],\n",
    "          [3,8,24 ]]]\n",
    "sclared_matrix(matrix)\n",
    "\n",
    "a = [2, [[3, 5],\n",
    "         [6, 10],\n",
    "         [6, 10]\n",
    "         ]]\n",
    "b = [3, [[1, 4],\n",
    "         [2, 8],\n",
    "         [6, 10]]]\n",
    "c =  [[10, 50],\n",
    "      [20, 100],\n",
    "         [6, 10]]\n",
    "\n",
    "arr_of_vectors =[]\n",
    "for x in [a,b,c]:\n",
    "    arr_of_vectors.append(sclared_matrix(x))\n",
    "\n",
    "\n",
    "\n",
    "\n",
    "def add_matrices(matrices):\n",
    "    final_arr = [[0 for j in matrices[0][0]] for x in matrices[0]]\n",
    "    for x in range(len(final_arr)):\n",
    "        block = final_arr[x]\n",
    "        for y in range(len(block)):\n",
    "            for sector in matrices:\n",
    "                final_arr[x][y] += sector[x][y]\n",
    "    return final_arr\n",
    "add_matrices(arr_of_vectors)\n",
    "\n",
    "add_matrices([[[1,6],[3,2]], [[2,1], [5,6]]])"
   ]
  },
  {
   "cell_type": "markdown",
   "metadata": {},
   "source": [
    "If you thought the above was difficult to understand and compute then this next one will make you cry lol.\n",
    "\n",
    "Rules with matrix multiplication\n",
    "When we multiply two matrices we need for the Ncol of A to be === to the Nrow of B\n",
    "\n",
    "So a = 2x3 can only go with a matrix that has Rx2 (where r is a random integer)\n",
    "\n",
    "so for matrices:\n",
    "\n",
    "[1,2,3]  * [7,8]\n",
    "[4,5,6]    [9,10]\n",
    "           [11,12]\n",
    "\n",
    "The resultant matrix is:\n",
    "[58, 64]\n",
    "[139, 154]\n",
    "\n",
    "Not how the dimensions of the resultant matrix are: nRowA x nColB"
   ]
  },
  {
   "cell_type": "code",
   "execution_count": 2,
   "metadata": {},
   "outputs": [
    {
     "name": "stdout",
     "output_type": "stream",
     "text": [
      "[[1, 0, 0], [0, 1, 0], [0, 0, 1]]\n"
     ]
    }
   ],
   "source": [
    "matrix_a = [[1,2,3], [4,5,6]]\n",
    "matrix_b = [[7,8], [9,10], [11,12]]\n",
    "\n",
    "def matrix_multiply(a, b):\n",
    "    nCola = len(a[0])\n",
    "    nRowb = len(b) \n",
    "    final_arr = [[0 for x in b[0]] for x in a]\n",
    "\n",
    "    b_Cols = len(b[0])\n",
    "    nRowa = len(a)\n",
    "    for i in range(nRowa):\n",
    "        for x in range(b_Cols):\n",
    "            for j in range(nRowb):\n",
    "                final_arr[i][x] += a[i][j] * b[j][x]\n",
    "    \n",
    "    print(final_arr)\n",
    "\n",
    "# matrix_multiply(matrix_a, matrix_b)\n",
    "\n",
    "permutation_matrix = [[0,1,0], [0,0,1], [1,0,0]]\n",
    "\n",
    "matrix_c = [[1,2,3], [4,5,6], [7,8,9]]\n",
    "# matrix_multiply(permutation_matrix, matrix_c)\n",
    "\n",
    "A_inverse = [[-4,-3, 2],[2,1,-1], [-3, -2, 2]]\n",
    "A_std = [[0,2,1], [-1, -2, 0], [-1, 1, 2]]\n",
    "matrix_multiply(A_inverse, A_std)\n",
    "\n",
    "matrix_multiply([[4,7], [2, 6]], [[7/10, -7/10], [-2/10, 1/2.5]])"
   ]
  },
  {
   "cell_type": "markdown",
   "metadata": {},
   "source": [
    "Another thing we can do, in terms of matrices, is we can multiply multply matrices by specific other matrices for a desired effect.\n",
    "\n",
    "For example we can multiply a matrix by a specific matrix we will be able to swap around the rows.\n",
    "\n",
    "swap_matrix = [[0,1,0]\n",
    "               [0,0,1]\n",
    "               [1,0,0]]\n",
    "This matrix will take any like sized array and flip the rows so that the top row of the final array will be the original arrays middle array\n",
    "\n",
    "The middle array of the final will be Orig.final\n",
    "\n",
    "and Final.final will be the original array's first row"
   ]
  },
  {
   "cell_type": "markdown",
   "metadata": {},
   "source": [
    "The first swap matrix affected the rows but we have another one that we can use to affect the columns.\n",
    "\n",
    "If we use the same matrix but have it multipled to the right of the primary matrix then we will affect the columns\n",
    "\n",
    "swap_matrix = [[0,1,0]\n",
    "               [0,0,1]\n",
    "               [1,0,0]]\n",
    "\n",
    "lets say the primary matrix is \n",
    "primary_matrix=[[1,2,3]\n",
    "               [4,5,6]\n",
    "               [7,8,9]]\n",
    "\n",
    "So with the swap matrix multipled on the right we will have the final column in first position\n",
    "The first column in the middle and the middle matrix at the end\n",
    "\n",
    "Let's run through an example: as we have primary on the left we iterate via its columns and iterate down the swap's rows\n",
    "\n",
    "\n",
    "1,2,3 will be 3, 2, 1\n",
    "4, 5, 6 will be 6, 5, 4\n",
    "7, 8, 9 will be 9, 8, 7\n"
   ]
  },
  {
   "cell_type": "code",
   "execution_count": 26,
   "metadata": {},
   "outputs": [
    {
     "name": "stdout",
     "output_type": "stream",
     "text": [
      "0.016666666666666666\n",
      "0.11111111111111112\n"
     ]
    }
   ],
   "source": [
    "print(1 / 20/3)\n",
    "print(20/3 * 0.016666666666666666)"
   ]
  }
 ],
 "metadata": {
  "kernelspec": {
   "display_name": "Python 3.9.12 ('base')",
   "language": "python",
   "name": "python3"
  },
  "language_info": {
   "codemirror_mode": {
    "name": "ipython",
    "version": 3
   },
   "file_extension": ".py",
   "mimetype": "text/x-python",
   "name": "python",
   "nbconvert_exporter": "python",
   "pygments_lexer": "ipython3",
   "version": "3.9.12"
  },
  "orig_nbformat": 4,
  "vscode": {
   "interpreter": {
    "hash": "01cf2e2fe5894d44bdffc1f9fc5ca6ca9931f6669129ee7e98bb7fd223434d06"
   }
  }
 },
 "nbformat": 4,
 "nbformat_minor": 2
}
