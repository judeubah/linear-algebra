{
 "cells": [
  {
   "cell_type": "markdown",
   "metadata": {},
   "source": [
    "A Vector is a variable of multiple dimensions. \n",
    "a = [2, 4] is a 2 dimensional vector\n",
    "a = [2,3,4] is a 3 dimensional vector\n",
    "\n",
    "The magnitude of a vector (symbolised as ||v||) is calculated with the formula:\n",
    "sqrt(sum v^2 for n vector in vectors)\n",
    "\n",
    "below is an equation for calculating the magnitude of a vector"
   ]
  },
  {
   "cell_type": "code",
   "execution_count": 19,
   "metadata": {},
   "outputs": [
    {
     "name": "stdout",
     "output_type": "stream",
     "text": [
      "1294.272\n"
     ]
    }
   ],
   "source": [
    "import numpy as np\n",
    "\n",
    "def vector_magnitude(vector, data=True):\n",
    "    if not data:\n",
    "        return f\"The length of the vector: {vector} is {round(np.sqrt(np.sum([(x)**2 for x in vector])),3)}\"\n",
    "    return round(np.sqrt(np.sum([(x)**2 for x in vector])), 3)\n",
    "\n",
    "print(vector_magnitude([-42.4, -10, 1000, 674, 454, 23, -111, 0.000003]))"
   ]
  },
  {
   "cell_type": "markdown",
   "metadata": {},
   "source": [
    "Scalar Multiplication\n",
    "\n",
    "If we apply a scalar across a vector we just multiply by this scalar\n",
    "so a = [x, y, z]\n",
    "k*a = [kx, ky, kz]\n",
    "\n",
    "Below is a function to take a vector and a scalar and return a scalar or return the value of\n",
    "the vector before and after the scalar multiplication"
   ]
  },
  {
   "cell_type": "code",
   "execution_count": 92,
   "metadata": {},
   "outputs": [
    {
     "data": {
      "text/plain": [
       "9.539"
      ]
     },
     "execution_count": 92,
     "metadata": {},
     "output_type": "execute_result"
    }
   ],
   "source": [
    "import numpy as np\n",
    "\n",
    "def vector_scalarised(scalar, vector, comparison=True):\n",
    "    old_magnitude = vector_magnitude(vector, True)\n",
    "    new_magnitude = vector_magnitude([x*scalar for x in vector])\n",
    "\n",
    "    if comparison:\n",
    "        return f\"\"\"The old vector had a magnitude of {old_magnitude}. With the scalar of \"{scalar}\" \n",
    "        having been applied the new magnitude is {new_magnitude}.\n",
    "        \\n Overall change = {round(new_magnitude/old_magnitude *100,3)}% of original size\n",
    "        \"\"\"\n",
    "    return {\n",
    "        'New_Mag': new_magnitude,\n",
    "        'New_vector': [x*scalar for x in vector]\n",
    "    }\n",
    "\n",
    "\n",
    "def add_vecs (vectors):\n",
    "    for x in range(len(vectors)):\n",
    "        item = vectors[x]\n",
    "        if type(item[1]) == list:\n",
    "            vectors[x] = vector_scalarised(item[0], item[1], False)['New_vector']\n",
    "            \n",
    "    new_vector = [0 for x in vectors[0]]\n",
    "    # print(vectors)\n",
    "    for x in range(len(vectors[0])):\n",
    "        for number in vectors:\n",
    "            if type(number[1]) == list:\n",
    "                number = vector_scalarised(number[0], number[1], False)['New_vector']\n",
    "            \n",
    "            new_vector[x] += number[x]\n",
    "    return vector_magnitude(new_vector)\n",
    "\n",
    "add_vecs([[4,[14,-3,2]], [7,[-1,3,-5]], [-5,[6,-4,1]]])\n"
   ]
  },
  {
   "cell_type": "markdown",
   "metadata": {},
   "source": [
    "Vector dot products \n",
    "\n",
    "An important vector operation in linear algebra is 'dot product' \n",
    "A dot product takes two equal dimension vectors and returns a single scalar value by summing\n",
    "the products of the vectors' corresponding components/\n",
    "\n",
    "a * b = E a[x] * b[x] (for n number of iterations where n is the length of both a and b)\n",
    "\n",
    "The resultant scalar 'Z' is how much vector a and b go into each other. \n",
    "If the vectors are perpendicular then the scalar value is zero as they don't go into each\n",
    "other at all\n",
    "\n",
    "Below is the function to do that"
   ]
  },
  {
   "cell_type": "code",
   "execution_count": 95,
   "metadata": {},
   "outputs": [
    {
     "data": {
      "text/plain": [
       "0"
      ]
     },
     "execution_count": 95,
     "metadata": {},
     "output_type": "execute_result"
    }
   ],
   "source": [
    "import numpy as np\n",
    "\n",
    "def dot_proudct_eval (a,b):\n",
    "    new_arr = [0 for x in a]\n",
    "    for x in range(len(a)):\n",
    "        a_i = a[x]\n",
    "        b_i = b[x]\n",
    "        new_arr[x] = a_i * b_i\n",
    "    \n",
    "    return np.sum(new_arr)\n",
    "\n",
    "dot_proudct_eval([3,0], [0,-3])\n"
   ]
  },
  {
   "cell_type": "markdown",
   "metadata": {},
   "source": [
    "We can also use the dot product formula as a way of finding the angle between\n",
    "two vectors.\n",
    "\n",
    "The equation for this is arccos(a*b/||a|| * ||b||)\n",
    "\n",
    "||a|| is the sqrt() of the sum of all elements of a squared\n",
    "so if a was [3,2,-3] then ||a|| would be sqrt(3^2 + 2^2 + -3^2)\n",
    "\n",
    "we can adapt the function in the above cell to return the angle as well as the scalar\n",
    "value representing how far they go into one another"
   ]
  },
  {
   "cell_type": "code",
   "execution_count": 98,
   "metadata": {},
   "outputs": [
    {
     "data": {
      "text/plain": [
       "{'dot_prod': 704, 'angle_in_degs': 37.694}"
      ]
     },
     "execution_count": 98,
     "metadata": {},
     "output_type": "execute_result"
    }
   ],
   "source": [
    "import numpy as np\n",
    "import math as maths\n",
    "\n",
    "def dot_proudct_eval (a,b):\n",
    "    new_arr = [0 for x in a]\n",
    "    for x in range(len(a)):\n",
    "        a_i = a[x]\n",
    "        b_i = b[x]\n",
    "        new_arr[x] = a_i * b_i\n",
    "    \n",
    "    numerator = np.sum(new_arr)\n",
    "    denominator = np.sqrt(np.sum([x**2 for x in a])) * np.sqrt(np.sum([x**2 for x in b]))\n",
    "    angle = round(maths.degrees(np.arccos(numerator/denominator)),3)\n",
    "    return {\n",
    "        'dot_prod': numerator,\n",
    "        'angle_in_degs':angle\n",
    "    }\n",
    "\n",
    "dot_proudct_eval([3,2,-3], [0,-3,-6])\n",
    "dot_proudct_eval([-17,22], [0,32])"
   ]
  }
 ],
 "metadata": {
  "kernelspec": {
   "display_name": "Python 3.9.12 ('base')",
   "language": "python",
   "name": "python3"
  },
  "language_info": {
   "codemirror_mode": {
    "name": "ipython",
    "version": 3
   },
   "file_extension": ".py",
   "mimetype": "text/x-python",
   "name": "python",
   "nbconvert_exporter": "python",
   "pygments_lexer": "ipython3",
   "version": "3.9.12"
  },
  "orig_nbformat": 4,
  "vscode": {
   "interpreter": {
    "hash": "01cf2e2fe5894d44bdffc1f9fc5ca6ca9931f6669129ee7e98bb7fd223434d06"
   }
  }
 },
 "nbformat": 4,
 "nbformat_minor": 2
}
