{
 "cells": [
  {
   "cell_type": "code",
   "execution_count": 6,
   "metadata": {},
   "outputs": [
    {
     "name": "stdout",
     "output_type": "stream",
     "text": [
      "{3}\n",
      "1.0\n",
      "0.8333333333333333\n",
      "0.4230769230769231\n"
     ]
    }
   ],
   "source": [
    "#sets are blocks of numbers and we can use set theory to figure out the likelihood\n",
    "#of on of the values from the set \n",
    "\n",
    "#Addition probabilities\n",
    "\n",
    "a = {1,2,3}\n",
    "b = {3,4,5}\n",
    "print(a.intersection(b))\n",
    "#run the above and u can see that a set \n",
    "\n",
    "#we can use a function to figure out probability by doing length of set a and b\n",
    "#divided by length of all possible outcomes\n",
    "\n",
    "#intersection is the stuff that is covered in both sets\n",
    "#then probability of the intersection is length of intersection/len all possible outcomes\n",
    "\n",
    "#then to find the probability of having a value in a or b we do prob a + prob b \n",
    "#but we minus the intersection as we don't want to count it again\n",
    "\n",
    "def one_from_a_or_b(a, b, all):\n",
    "    length_a = len(a)\n",
    "    length_b = len(b)\n",
    "    length_all = len(all)\n",
    "    prob_a = length_a/length_all\n",
    "    prob_b = length_b/length_all\n",
    "\n",
    "    inter = a.intersection(b)\n",
    "\n",
    "    prob_inter = len(inter)/length_all\n",
    "\n",
    "    return (prob_a+prob_b) - prob_inter\n",
    "\n",
    "evens = {2, 4, 6}\n",
    "odds = {1, 3, 5}\n",
    "all_possible_rolls = {1, 2, 3, 4, 5, 6}\n",
    "\n",
    "# call function here first\n",
    "print(one_from_a_or_b(evens, odds, all_possible_rolls))\n",
    "\n",
    "\n",
    "odds = {1, 3, 5}\n",
    "greater_than_two = {3, 4, 5, 6}\n",
    "all_possible_rolls = {1, 2, 3, 4, 5, 6}\n",
    "\n",
    "# call function here second\n",
    "print(one_from_a_or_b(odds, greater_than_two, all_possible_rolls))\n",
    "\n",
    "diamond_cards = {'ace_diamond', '2_diamond', '3_diamond', '4_diamond', '5_diamond', '6_diamond', '7_diamond', '8_diamond', '9_diamond', '10_diamond', 'jack_diamond', 'queen_diamond', 'king_diamond'}\n",
    "face_cards = {'jack_diamond', 'jack_spade', 'jack_heart', 'jack_club', 'queen_diamond', 'queen_spade', 'queen_heart', 'queen_club', 'king_diamond', 'king_spade', 'king_heart', 'king_club'}\n",
    "# all cards in a deck representing the entire sample space\n",
    "all_possible_cards = {'ace_diamond', '2_diamond', '3_diamond', '4_diamond', '5_diamond', '6_diamond', '7_diamond', '8_diamond', '9_diamond', '10_diamond', 'jack_diamond', 'queen_diamond', 'king_diamond', 'ace_heart', '2_heart', '3_heart', '4_heart', '5_heart', '6_heart', '7_heart', '8_heart', '9_heart', '10_heart', 'jack_heart', 'queen_heart', 'king_heart', 'ace_spade', '2_spade', '3_spade', '4_spade', '5_spade', '6_spade', '7_spade', '8_spade', '9_spade', '10_spade', 'jack_spade', 'queen_spade', 'king_spade', 'ace_club', '2_club', '3_club', '4_club', '5_club', '6_club', '7_club', '8_club', '9_club', '10_club', 'jack_club', 'queen_club', 'king_club'}\n",
    "\n",
    "# call function here third\n",
    "print(one_from_a_or_b(diamond_cards, face_cards, all_possible_cards))"
   ]
  },
  {
   "cell_type": "code",
   "execution_count": null,
   "metadata": {},
   "outputs": [],
   "source": [
    "#(\n",
    "# Conditional Probability\n",
    "# \n",
    "# If the probability of a scenario is dependent on the outcome of another\n",
    "# then we would say that it is a conditional probability\n",
    "# \n",
    "# If there are ten sweets in a bag, 5 blue, 5red, if i take one (and dont replace it)\n",
    "# if that one is blue then the chance of the next being blue is 4/9 but chance of\n",
    "# the next one being red is 5/9\n",
    "# \n",
    "# \n",
    "# \n",
    "# )"
   ]
  },
  {
   "cell_type": "code",
   "execution_count": null,
   "metadata": {},
   "outputs": [],
   "source": [
    "#(\n",
    "# In the first cell in this stream we looked at the addition rule - \n",
    "# the addition rule shows the propabilities of any of the given events happening\n",
    "# as we are adding the probs together so it shows how likely anything that we \n",
    "# are testing for could occur so chance of A OR B occuring\n",
    "# \n",
    "# if we want to know about simultaneous or dependent events we will then need to use \n",
    "# multiplication\n",
    "# \n",
    "# General formula:\n",
    "# P(A and B) = P(A) * P(B|A)\n",
    "# the P(B|A) means the probability of B event given A has occurred\n",
    "# so like if A is choosing one of 5 blue sweets and B is choosing one of 5 red\n",
    "# Then P(B|A) would be the chance of choosing a B (red) sweet given that I have already \n",
    "# extracted an A (blue) sweet\n",
    "# \n",
    "# if the events are independnt then the P(A and B) is just P(A)*P(B)\n",
    "# This is because they don't affect each other\n",
    "# This would be like whats the probability of flipping a coin and one time getting a head\n",
    "# and then the next time getting a tails\n",
    "# \n",
    "# \n",
    "# )"
   ]
  },
  {
   "cell_type": "code",
   "execution_count": 7,
   "metadata": {},
   "outputs": [
    {
     "name": "stdout",
     "output_type": "stream",
     "text": [
      "0.913978494623656\n"
     ]
    }
   ],
   "source": [
    "#(\n",
    "# Bayes Theorem\n",
    "# \n",
    "# This is like an algebraic equation to find the probalility of a scenario\n",
    "# for which we do not know the probablity for \n",
    "# \n",
    "# so:\n",
    "# \n",
    "# P(B|A) = P(A|B) * P(B) / P(A)\n",
    "# \n",
    "# )\n",
    "\n",
    "#(\n",
    "# Worked example we want to know the probabiluty of u having covid having tested positive\n",
    "# \n",
    "# So we need to know the prob of testing positive, having had covid\n",
    "# \n",
    "# Probability of covid\n",
    "# and prob of testing positive\n",
    "# \n",
    "# )\n",
    "\n",
    "prob_pos_with_covid = 0.85\n",
    "probs_covid = 0.2\n",
    "probs_positive = 0.186\n",
    "\n",
    "covid_test_pos = prob_pos_with_covid * probs_covid / probs_positive\n",
    "print(covid_test_pos)"
   ]
  }
 ],
 "metadata": {
  "kernelspec": {
   "display_name": "Python 3.9.12 ('base')",
   "language": "python",
   "name": "python3"
  },
  "language_info": {
   "codemirror_mode": {
    "name": "ipython",
    "version": 3
   },
   "file_extension": ".py",
   "mimetype": "text/x-python",
   "name": "python",
   "nbconvert_exporter": "python",
   "pygments_lexer": "ipython3",
   "version": "3.9.12"
  },
  "orig_nbformat": 4,
  "vscode": {
   "interpreter": {
    "hash": "01cf2e2fe5894d44bdffc1f9fc5ca6ca9931f6669129ee7e98bb7fd223434d06"
   }
  }
 },
 "nbformat": 4,
 "nbformat_minor": 2
}
