{
 "cells": [
  {
   "cell_type": "code",
   "execution_count": 3,
   "metadata": {},
   "outputs": [
    {
     "name": "stdout",
     "output_type": "stream",
     "text": [
      "[4 1 5 3 2 5 2 5 2 5 4 5 1 4 6 2 6 2 2 4 2 6 5 1 2 4 1 5 6 3 3 3 1 4 5 4 5\n",
      " 3 2 4 4 6 4 5 2 1 6 3 2 5]\n"
     ]
    }
   ],
   "source": [
    "import numpy as np\n",
    "\n",
    "#(\n",
    "# We can use np method random and its method choice to select a host of values from a set\n",
    "# replace means is the chosen item going to be returned into list of possible items\n",
    "# )\n",
    "\n",
    "dice_6 = range(1, 7)\n",
    "num_rolls = 50\n",
    "\n",
    "results_1 = np.random.choice(dice_6, size=num_rolls, replace=True)\n",
    "#As this is simulating a dice then yes replace is true as rolling doesn't remove future option\n",
    "\n",
    "print(results_1)"
   ]
  },
  {
   "cell_type": "code",
   "execution_count": 25,
   "metadata": {},
   "outputs": [
    {
     "name": "stdout",
     "output_type": "stream",
     "text": [
      "0.1171875\n",
      "1.330764096406523e-208\n",
      "{5.065988280449224e-38, 0.1171875}\n"
     ]
    }
   ],
   "source": [
    "#Probability Mass Functions PMF\n",
    "\n",
    "#These let us see the probability of having an exact discrete value from a discrete\n",
    "#random variable\n",
    "#So pmf is like the probablity of that exact (given) discrete value occurring\n",
    "import scipy.stats as stats\n",
    "\n",
    "print(stats.binom.pmf(3, 10, 0.5))\n",
    "#Arguments\n",
    "# 1 = value u want to know about\n",
    "# 2 = how many tries/sample size/group\n",
    "# 3 = probability of success\n",
    "\n",
    "# Task 1 - find the probability of getting 7 heads in 10 coin flips\n",
    "print(stats.binom.pmf(1, 700, 0.5))\n",
    "#as you can see we can make it prodce very low numbers if we ask for discrete values\n",
    "#that are illogical in terms of the variable probability ie asking probability of 10 heads\n",
    "#in 10 flips - very low and if u say 100 heads in 100 flips its even worse\n",
    "\n",
    "\n",
    "#(\n",
    "# Another thing to note is that the laws of big numbers and how they colour probaility\n",
    "# are involved ie over a larger data set we would expect the true probability to express itself\n",
    "# in the outcome results and if it does not then the chances are very low\n",
    "# \n",
    "# IE 3 heads in 10 consequtive flips is low probability but not crazy\n",
    "# But 30 heads in 100 flips is verry low as over 100 for true propability (50%) to not be \n",
    "# observed - this is very unlikely\n",
    "# \n",
    "# )\n",
    "\n",
    "small_data = stats.binom.pmf(3, 10, 0.5)\n",
    "big_data = stats.binom.pmf(300, 1000, 0.5)\n",
    "\n",
    "\n",
    "\n",
    "\n",
    "print({big_data, small_data})"
   ]
  },
  {
   "cell_type": "code",
   "execution_count": 31,
   "metadata": {},
   "outputs": [
    {
     "name": "stdout",
     "output_type": "stream",
     "text": [
      "0.5397946186935892\n",
      "0.017600100108852382\n"
     ]
    }
   ],
   "source": [
    "#We can use probability mass function calculations to calculate ranges\n",
    "\n",
    "#Easiest would be to find probs of finding all values and less\n",
    "\n",
    "one_to_30 = range(1, 51)\n",
    "\n",
    "at_or_less = 0\n",
    "for num in one_to_30:\n",
    "    at_or_less += stats.binom.pmf(num, 100, 0.5 )\n",
    "print(at_or_less)\n",
    "#(\n",
    "# Above this is basically asking what is the probability of having 50 or fewer heads in\n",
    "# a sample  size of 100\n",
    "# )\n",
    "\n",
    "#(\n",
    "# What if we wanted to know the probability of having x or more heads in a given sample\n",
    "# We would need to do 1 - all the values lower than the value we want to be above\n",
    "# \n",
    "# \n",
    "# )\n",
    "\n",
    "above_60 = range(1,61)\n",
    "above_60_or = 1\n",
    "\n",
    "for num in above_60:\n",
    "    above_60_or -= stats.binom.pmf(num, 100, 0.5)\n",
    "\n",
    "print(above_60_or)  "
   ]
  },
  {
   "cell_type": "code",
   "execution_count": 36,
   "metadata": {},
   "outputs": [
    {
     "name": "stdout",
     "output_type": "stream",
     "text": [
      "0.5397946186935895\n",
      "0.01760010010885238\n"
     ]
    }
   ],
   "source": [
    "#(\n",
    "# Cumulative Distribution Function\n",
    "# \n",
    "# This lets us see the probability of discrete values in a discrete probability variable\n",
    "# in a range - so it would be probability of all discrete values and less\n",
    "# \n",
    "# )\n",
    "import scipy.stats as stats\n",
    "\n",
    "prob_50_or_L = stats.binom.cdf(50, 100, 0.5)\n",
    "print(prob_50_or_L)\n",
    "\n",
    "prob_60_more = 1 - stats.binom.cdf(60, 100, 0.5)\n",
    "print(prob_60_more)"
   ]
  },
  {
   "cell_type": "code",
   "execution_count": 7,
   "metadata": {},
   "outputs": [
    {
     "name": "stdout",
     "output_type": "stream",
     "text": [
      "0.9813219378660953\n"
     ]
    }
   ],
   "source": [
    "#(\n",
    "# Cumulative density function\n",
    "# \n",
    "# CDF can show u the likelihood of a discrete value but it can also show u the likelihood\n",
    "# of a any values occurinng in a range (for continuous values)\n",
    "# \n",
    "# )\n",
    "\n",
    "#(\n",
    "# For CDF - Continuous the args are: 1 - value of interest, 2 - mean of the probability distr\n",
    "# 3: the standard deviation of the probability distribution\n",
    "# The function will return all the values that are found below the value of interest\n",
    "# \n",
    "# For continuous data we would have to use Cumulative Density as a calculation of continuous data type\n",
    "# must be a range because the likelihood of an exact value with infinite decimal places is negligible\n",
    "# so must do the cumulation \n",
    "# \n",
    "# We need the mean to articulate the likelihood of values relative to the central tendency\n",
    "# And the standard deviation (the third argument) is needed as it lets us have a kinda modifier to see again\n",
    "# how likely a value range is to occur \n",
    "# \n",
    "# This is because a standard deviation will show the general way in which values move against the mean \n",
    "# so being within the the std is also likely\n",
    "# \n",
    "# It's important to note that the function for continuous is stats.norm not stats.binom\n",
    "# \n",
    "# )\n",
    "import scipy.stats as stats\n",
    "\n",
    "av_height_uk = 160.3\n",
    "std = 5.62\n",
    "my_height = 172\n",
    "\n",
    "those_smaller = stats.norm.cdf(my_height, av_height_uk, std)\n",
    "print(those_smaller)"
   ]
  },
  {
   "cell_type": "code",
   "execution_count": 5,
   "metadata": {},
   "outputs": [
    {
     "name": "stdout",
     "output_type": "stream",
     "text": [
      "0.6997171101802624\n",
      "Taller: 0.9918376644753395\n"
     ]
    }
   ],
   "source": [
    "import scipy.stats as stats\n",
    "\n",
    "#(\n",
    "# If we want to find a range we do the biggest value minus the smaller value so if we wanted to find the\n",
    "# chance of weather being between 27-20 \n",
    "# \n",
    "# )\n",
    "\n",
    "between_27_25 = stats.norm.cdf(25, 20, 3) - stats.norm.cdf(18, 20, 3)\n",
    "print(between_27_25)\n",
    "\n",
    "#(\n",
    "#  If you want to find probability values above a certain values then we do 1 minus a result for the cmf\n",
    "# )\n",
    "people_taller_than_me = 1 - stats.norm.cdf(157, 175.3, 7.62)\n",
    "print('Taller:', people_taller_than_me)"
   ]
  }
 ],
 "metadata": {
  "kernelspec": {
   "display_name": "Python 3.9.12 ('base')",
   "language": "python",
   "name": "python3"
  },
  "language_info": {
   "codemirror_mode": {
    "name": "ipython",
    "version": 3
   },
   "file_extension": ".py",
   "mimetype": "text/x-python",
   "name": "python",
   "nbconvert_exporter": "python",
   "pygments_lexer": "ipython3",
   "version": "3.9.12"
  },
  "orig_nbformat": 4,
  "vscode": {
   "interpreter": {
    "hash": "01cf2e2fe5894d44bdffc1f9fc5ca6ca9931f6669129ee7e98bb7fd223434d06"
   }
  }
 },
 "nbformat": 4,
 "nbformat_minor": 2
}
